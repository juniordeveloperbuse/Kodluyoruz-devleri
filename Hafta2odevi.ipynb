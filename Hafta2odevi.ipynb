{
  "metadata": {
    "kernelspec": {
      "name": "python",
      "display_name": "Python (Pyodide)",
      "language": "python"
    },
    "language_info": {
      "codemirror_mode": {
        "name": "python",
        "version": 3
      },
      "file_extension": ".py",
      "mimetype": "text/x-python",
      "name": "python",
      "nbconvert_exporter": "python",
      "pygments_lexer": "ipython3",
      "version": "3.8"
    }
  },
  "nbformat_minor": 4,
  "nbformat": 4,
  "cells": [
    {
      "cell_type": "code",
      "source": "# Öklid mesafesini hesaplayan fonksiyon\ndef euclideanDistance(point1, point2):\n    x1, y1 = point1\n    x2, y2 = point2\n    return ((x2 - x1)**2 + (y2 - y1)**2)**0.5  # Karekök alma \n\n# Noktaların tanımlanması (her biri bir demet olmalı)\npoints = [(1, 2), (3, 4), (5, 6)] \n\n# Mesafeleri saklamak için boş bir liste\ndistances = []\n\n# Noktalar arasındaki mesafeleri hesaplamak\nfor i in range(len(points)):\n    for j in range(i + 1, len(points)):  # j, i'den daha büyük olacak \n        distance = euclideanDistance(points[i], points[j])\n        distances.append(distance)\n\n# Hesaplanan mesafe\nprint(\"Mesafeler:\", distances)\n\n# Minimum mesafe\nmin_distance = min(distances)\nprint(f\"Minimum mesafe: {min_distance}\")",
      "metadata": {
        "trusted": true
      },
      "outputs": [],
      "execution_count": null
    }
  ]
}